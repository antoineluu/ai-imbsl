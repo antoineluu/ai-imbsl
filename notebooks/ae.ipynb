{
 "cells": [
  {
   "cell_type": "code",
   "execution_count": 121,
   "metadata": {},
   "outputs": [
    {
     "name": "stdout",
     "output_type": "stream",
     "text": [
      "The autoreload extension is already loaded. To reload it, use:\n",
      "  %reload_ext autoreload\n"
     ]
    }
   ],
   "source": [
    "import pandas as pd\n",
    "import numpy as np\n",
    "import torch\n",
    "import optuna\n",
    "import torch.nn as nn\n",
    "from torchsummary import summary\n",
    "from torch.nn.functional import mse_loss\n",
    "from torch.utils.data import Dataset, DataLoader\n",
    "from sklearn.model_selection import train_test_split\n",
    "from utils_pp import replace_cell_names_with_id\n",
    "%load_ext autoreload\n",
    "%autoreload 2\n",
    "\n",
    "if torch.cuda.is_available():\n",
    "    device = torch.device('cuda')\n",
    "else:\n",
    "    device = torch.device('cpu')"
   ]
  },
  {
   "cell_type": "code",
   "execution_count": 100,
   "metadata": {},
   "outputs": [
    {
     "name": "stdout",
     "output_type": "stream",
     "text": [
      "drug_feat 5.213636 (538, 2412)\n",
      "drug_feat 1.324686 (135, 2412)\n",
      "cell_feat 29.111364 (1450, 5011)\n"
     ]
    }
   ],
   "source": [
    "# columns = [\"cell_line\", \"drugA_name\", \"drugB_name\", \"drugA_conc\", \"drugB_conc\", \"target\"]\n",
    "# df_train = pd.read_csv(\"../data_raw/oneil.csv\", usecols=(1,2,3,4,5,12)).iloc[:,[0,1,3,2,4,5]].set_axis(columns, axis=1)\n",
    "# df_train[\"cell_line\"]\n",
    "# df_test = pd.read_csv(\"../data/test_yosua.csv\").set_axis(columns + [\"std\"], axis=1).convert_dtypes()\n",
    "\n",
    "drug_data = pd.read_pickle(\"../data/drug_data.pkl.compress\", compression=\"gzip\")\n",
    "cell_data = pd.read_pickle(\"../data/cell_line_data.pkl.compress\", compression=\"gzip\")\n",
    "drug_data_val = drug_data.copy()\n",
    "X_train_drug, X_val_drug, y_train_drug, y_val_drug = train_test_split(drug_data, drug_data_val, test_size=0.2, shuffle=True)\n",
    "# df_train = replace_cell_names_with_id(dataframe=df_train, mapping_file=\"../data/mappingccl.csv\")\n",
    "# df_test = replace_cell_names_with_id(dataframe=df_test, mapping_file=\"../data/mappingccl.csv\")\n",
    "# df_train = df_train[df_train.cell_line.isin(cell_data.index)]\n",
    "# df_train, df_val = train_test_split(df_train, test_size=0.2, shuffle=True)\n",
    "# cell_data = cell_data[cell_data.index.isin(pd.concat([df_train.cell_line, df_test.cell_line]))]\n",
    "# print(\"oneil\", df_train.memory_usage().sum()/1e6, df_train.shape,\"\\n\", df_train.dtypes)\n",
    "print(\"drug_feat\", X_train_drug.memory_usage().sum()/1e6, X_train_drug.shape)\n",
    "print(\"drug_feat\", X_val_drug.memory_usage().sum()/1e6, X_val_drug.shape)\n",
    "print(\"cell_feat\", cell_data.memory_usage().sum()/1e6, cell_data.shape)\n"
   ]
  },
  {
   "cell_type": "code",
   "execution_count": 4,
   "metadata": {},
   "outputs": [
    {
     "name": "stdout",
     "output_type": "stream",
     "text": [
      "torch.Size([64, 2412]) torch.Size([64, 2412])\n"
     ]
    }
   ],
   "source": [
    "class dataset(Dataset):\n",
    "    def __init__(self, data, labels):\n",
    "        self.dataset = data.to_numpy()\n",
    "        self.labels = labels.to_numpy()\n",
    "\n",
    "    def __len__(self):\n",
    "        return len(self.dataset)\n",
    "    \n",
    "    def __getitem__(self, idx):\n",
    "        return self.dataset[idx], self.labels[idx]\n",
    "                \n",
    "train_set_drug  = dataset(X_train_drug, y_train_drug)\n",
    "val_set_drug  = dataset(X_val_drug, y_val_drug)\n",
    "train_dl_drug = DataLoader(train_set_drug, batch_size=64, shuffle=True)\n",
    "val_dl_drug = DataLoader(val_set_drug, batch_size=64, shuffle=True)\n",
    "xi, yi = next(iter(train_dl_drug))\n",
    "print(xi.shape, yi.shape)"
   ]
  },
  {
   "cell_type": "code",
   "execution_count": 103,
   "metadata": {},
   "outputs": [
    {
     "name": "stdout",
     "output_type": "stream",
     "text": [
      "torch.Size([128, 2412]) torch.Size([128, 2412])\n"
     ]
    }
   ],
   "source": [
    "\n",
    "# Creating a PyTorch class\n",
    "# 28*28 ==> 9 ==> 28*28\n",
    "class AE(torch.nn.Module):\n",
    "    def __init__(self, h_sizes, dropout=0.2):\n",
    "        super().__init__()\n",
    "         \n",
    "        # Building an linear encoder with Linear\n",
    "        # layer followed by Relu activation function\n",
    "        # 784 ==> 9\n",
    "        self.encoder = torch.nn.Sequential(\n",
    "            torch.nn.Linear(h_sizes[0], h_sizes[1]),\n",
    "            torch.nn.ReLU(),\n",
    "            torch.nn.Dropout(dropout),\n",
    "            torch.nn.Linear(h_sizes[1], h_sizes[2]),\n",
    "            torch.nn.ReLU(),\n",
    "            torch.nn.Dropout(dropout),\n",
    "            torch.nn.Linear(h_sizes[2], h_sizes[3])\n",
    "        )\n",
    "         \n",
    "        # Building an linear decoder with Linear\n",
    "        # layer followed by Relu activation function\n",
    "        # The Sigmoid activation function\n",
    "        # outputs the value between 0 and 1\n",
    "        # 9 ==> 784\n",
    "        self.decoder = torch.nn.Sequential(\n",
    "            torch.nn.Linear(h_sizes[3], h_sizes[4]),\n",
    "            torch.nn.ReLU(),\n",
    "            torch.nn.Dropout(dropout),\n",
    "            torch.nn.Linear(h_sizes[4], h_sizes[5]),\n",
    "            torch.nn.ReLU(),\n",
    "            torch.nn.Dropout(dropout),\n",
    "            torch.nn.Linear(h_sizes[5], h_sizes[0])\n",
    "        )\n",
    " \n",
    "    def forward(self, x):\n",
    "        encoded = self.encoder(x)\n",
    "        decoded = self.decoder(encoded)\n",
    "        return decoded\n",
    "    \n",
    "ae = AE([xi.shape[1],512,512,256,512,512])\n",
    "yi = ae.forward(xi)\n",
    "print(xi.shape, yi.shape)"
   ]
  },
  {
   "cell_type": "code",
   "execution_count": 118,
   "metadata": {},
   "outputs": [],
   "source": [
    "def train_one_epoch(model, epoch_index, tb_writer, training_loader, optimizer, loss_fn, device, verbose=False):\n",
    "    running_loss = 0.\n",
    "    last_loss = 0.\n",
    "    model = model.to(device)\n",
    "    for i, data in enumerate(training_loader):\n",
    "        inputs, labels = data\n",
    "        inputs = inputs.to(device=device)\n",
    "        labels = labels.to(device=device)\n",
    "        # Zero your gradients for every batch!\n",
    "        optimizer.zero_grad()\n",
    "        outputs = model.forward(inputs)\n",
    "\n",
    "        # Compute the loss and its gradients\n",
    "        loss = loss_fn(outputs, labels)\n",
    "        loss.backward()\n",
    "\n",
    "        # Adjust learning weights\n",
    "        optimizer.step()\n",
    "        running_loss += loss.item()\n",
    "\n",
    "        # last_loss =  loss.item() / inputs.shape[0]  # loss per sample\n",
    "        # if verbose:print('  batch {} loss: {}'.format(i + 1, last_loss), outputs[0][0].item(), labels[0][0].item())\n",
    "        # tb_x = epoch_index * len(training_loader) + i + 1\n",
    "        # tb_writer.add_scalar('Loss/train', last_loss, tb_x)\n",
    "    \n",
    "    return running_loss / (i+1)"
   ]
  },
  {
   "cell_type": "code",
   "execution_count": 80,
   "metadata": {},
   "outputs": [],
   "source": [
    "class EarlyStopper:\n",
    "    def __init__(self, patience=1, min_delta=0):\n",
    "        self.patience = patience\n",
    "        self.min_delta = min_delta\n",
    "        self.counter = 0\n",
    "        self.min_validation_loss = np.inf\n",
    "\n",
    "    def early_stop(self, validation_loss):\n",
    "        if validation_loss < self.min_validation_loss:\n",
    "            self.min_validation_loss = validation_loss\n",
    "            self.counter = 0\n",
    "        elif validation_loss > (self.min_validation_loss + self.min_delta):\n",
    "            self.counter += 1\n",
    "            if self.counter >= self.patience:\n",
    "                return True\n",
    "        return False"
   ]
  },
  {
   "cell_type": "code",
   "execution_count": 126,
   "metadata": {},
   "outputs": [
    {
     "name": "stdout",
     "output_type": "stream",
     "text": [
      "EPOCH 10: LOSS train 0.9189367492993673 valid 0.9363616704940796\n"
     ]
    },
    {
     "ename": "KeyboardInterrupt",
     "evalue": "",
     "output_type": "error",
     "traceback": [
      "\u001b[1;31m---------------------------------------------------------------------------\u001b[0m",
      "\u001b[1;31mKeyboardInterrupt\u001b[0m                         Traceback (most recent call last)",
      "Cell \u001b[1;32mIn[126], line 68\u001b[0m\n\u001b[0;32m     64\u001b[0m         epoch_number \u001b[39m+\u001b[39m\u001b[39m=\u001b[39m \u001b[39m1\u001b[39m\n\u001b[0;32m     66\u001b[0m     \u001b[39mreturn\u001b[39;00m avg_vloss\n\u001b[1;32m---> 68\u001b[0m objective()\n\u001b[0;32m     70\u001b[0m \u001b[39mwith\u001b[39;00m torch\u001b[39m.\u001b[39mno_grad():\n\u001b[0;32m     71\u001b[0m     \u001b[39mfor\u001b[39;00m i, data \u001b[39min\u001b[39;00m \u001b[39menumerate\u001b[39m(train_dl_drug):\n",
      "Cell \u001b[1;32mIn[126], line 49\u001b[0m, in \u001b[0;36mobjective\u001b[1;34m(trial)\u001b[0m\n\u001b[0;32m     47\u001b[0m vinputs \u001b[39m=\u001b[39m vinputs\u001b[39m.\u001b[39mto(device)\n\u001b[0;32m     48\u001b[0m vlabels \u001b[39m=\u001b[39m vlabels\u001b[39m.\u001b[39mto(device)\n\u001b[1;32m---> 49\u001b[0m voutputs \u001b[39m=\u001b[39m ae(vinputs)\n\u001b[0;32m     50\u001b[0m vloss \u001b[39m=\u001b[39m loss_fn(voutputs, vlabels) \u001b[39m/\u001b[39m vinputs\u001b[39m.\u001b[39mshape[\u001b[39m0\u001b[39m]\n\u001b[0;32m     51\u001b[0m running_vloss \u001b[39m+\u001b[39m\u001b[39m=\u001b[39m vloss\n",
      "File \u001b[1;32mc:\\Users\\antoi\\ai-imbsl\\.venv\\lib\\site-packages\\torch\\nn\\modules\\module.py:1501\u001b[0m, in \u001b[0;36mModule._call_impl\u001b[1;34m(self, *args, **kwargs)\u001b[0m\n\u001b[0;32m   1496\u001b[0m \u001b[39m# If we don't have any hooks, we want to skip the rest of the logic in\u001b[39;00m\n\u001b[0;32m   1497\u001b[0m \u001b[39m# this function, and just call forward.\u001b[39;00m\n\u001b[0;32m   1498\u001b[0m \u001b[39mif\u001b[39;00m \u001b[39mnot\u001b[39;00m (\u001b[39mself\u001b[39m\u001b[39m.\u001b[39m_backward_hooks \u001b[39mor\u001b[39;00m \u001b[39mself\u001b[39m\u001b[39m.\u001b[39m_backward_pre_hooks \u001b[39mor\u001b[39;00m \u001b[39mself\u001b[39m\u001b[39m.\u001b[39m_forward_hooks \u001b[39mor\u001b[39;00m \u001b[39mself\u001b[39m\u001b[39m.\u001b[39m_forward_pre_hooks\n\u001b[0;32m   1499\u001b[0m         \u001b[39mor\u001b[39;00m _global_backward_pre_hooks \u001b[39mor\u001b[39;00m _global_backward_hooks\n\u001b[0;32m   1500\u001b[0m         \u001b[39mor\u001b[39;00m _global_forward_hooks \u001b[39mor\u001b[39;00m _global_forward_pre_hooks):\n\u001b[1;32m-> 1501\u001b[0m     \u001b[39mreturn\u001b[39;00m forward_call(\u001b[39m*\u001b[39margs, \u001b[39m*\u001b[39m\u001b[39m*\u001b[39mkwargs)\n\u001b[0;32m   1502\u001b[0m \u001b[39m# Do not call functions when jit is used\u001b[39;00m\n\u001b[0;32m   1503\u001b[0m full_backward_hooks, non_full_backward_hooks \u001b[39m=\u001b[39m [], []\n",
      "Cell \u001b[1;32mIn[103], line 37\u001b[0m, in \u001b[0;36mAE.forward\u001b[1;34m(self, x)\u001b[0m\n\u001b[0;32m     35\u001b[0m \u001b[39mdef\u001b[39;00m \u001b[39mforward\u001b[39m(\u001b[39mself\u001b[39m, x):\n\u001b[0;32m     36\u001b[0m     encoded \u001b[39m=\u001b[39m \u001b[39mself\u001b[39m\u001b[39m.\u001b[39mencoder(x)\n\u001b[1;32m---> 37\u001b[0m     decoded \u001b[39m=\u001b[39m \u001b[39mself\u001b[39;49m\u001b[39m.\u001b[39;49mdecoder(encoded)\n\u001b[0;32m     38\u001b[0m     \u001b[39mreturn\u001b[39;00m decoded\n",
      "File \u001b[1;32mc:\\Users\\antoi\\ai-imbsl\\.venv\\lib\\site-packages\\torch\\nn\\modules\\module.py:1501\u001b[0m, in \u001b[0;36mModule._call_impl\u001b[1;34m(self, *args, **kwargs)\u001b[0m\n\u001b[0;32m   1496\u001b[0m \u001b[39m# If we don't have any hooks, we want to skip the rest of the logic in\u001b[39;00m\n\u001b[0;32m   1497\u001b[0m \u001b[39m# this function, and just call forward.\u001b[39;00m\n\u001b[0;32m   1498\u001b[0m \u001b[39mif\u001b[39;00m \u001b[39mnot\u001b[39;00m (\u001b[39mself\u001b[39m\u001b[39m.\u001b[39m_backward_hooks \u001b[39mor\u001b[39;00m \u001b[39mself\u001b[39m\u001b[39m.\u001b[39m_backward_pre_hooks \u001b[39mor\u001b[39;00m \u001b[39mself\u001b[39m\u001b[39m.\u001b[39m_forward_hooks \u001b[39mor\u001b[39;00m \u001b[39mself\u001b[39m\u001b[39m.\u001b[39m_forward_pre_hooks\n\u001b[0;32m   1499\u001b[0m         \u001b[39mor\u001b[39;00m _global_backward_pre_hooks \u001b[39mor\u001b[39;00m _global_backward_hooks\n\u001b[0;32m   1500\u001b[0m         \u001b[39mor\u001b[39;00m _global_forward_hooks \u001b[39mor\u001b[39;00m _global_forward_pre_hooks):\n\u001b[1;32m-> 1501\u001b[0m     \u001b[39mreturn\u001b[39;00m forward_call(\u001b[39m*\u001b[39margs, \u001b[39m*\u001b[39m\u001b[39m*\u001b[39mkwargs)\n\u001b[0;32m   1502\u001b[0m \u001b[39m# Do not call functions when jit is used\u001b[39;00m\n\u001b[0;32m   1503\u001b[0m full_backward_hooks, non_full_backward_hooks \u001b[39m=\u001b[39m [], []\n",
      "File \u001b[1;32mc:\\Users\\antoi\\ai-imbsl\\.venv\\lib\\site-packages\\torch\\nn\\modules\\container.py:217\u001b[0m, in \u001b[0;36mSequential.forward\u001b[1;34m(self, input)\u001b[0m\n\u001b[0;32m    215\u001b[0m \u001b[39mdef\u001b[39;00m \u001b[39mforward\u001b[39m(\u001b[39mself\u001b[39m, \u001b[39minput\u001b[39m):\n\u001b[0;32m    216\u001b[0m     \u001b[39mfor\u001b[39;00m module \u001b[39min\u001b[39;00m \u001b[39mself\u001b[39m:\n\u001b[1;32m--> 217\u001b[0m         \u001b[39minput\u001b[39m \u001b[39m=\u001b[39m module(\u001b[39minput\u001b[39;49m)\n\u001b[0;32m    218\u001b[0m     \u001b[39mreturn\u001b[39;00m \u001b[39minput\u001b[39m\n",
      "File \u001b[1;32mc:\\Users\\antoi\\ai-imbsl\\.venv\\lib\\site-packages\\torch\\nn\\modules\\module.py:1501\u001b[0m, in \u001b[0;36mModule._call_impl\u001b[1;34m(self, *args, **kwargs)\u001b[0m\n\u001b[0;32m   1496\u001b[0m \u001b[39m# If we don't have any hooks, we want to skip the rest of the logic in\u001b[39;00m\n\u001b[0;32m   1497\u001b[0m \u001b[39m# this function, and just call forward.\u001b[39;00m\n\u001b[0;32m   1498\u001b[0m \u001b[39mif\u001b[39;00m \u001b[39mnot\u001b[39;00m (\u001b[39mself\u001b[39m\u001b[39m.\u001b[39m_backward_hooks \u001b[39mor\u001b[39;00m \u001b[39mself\u001b[39m\u001b[39m.\u001b[39m_backward_pre_hooks \u001b[39mor\u001b[39;00m \u001b[39mself\u001b[39m\u001b[39m.\u001b[39m_forward_hooks \u001b[39mor\u001b[39;00m \u001b[39mself\u001b[39m\u001b[39m.\u001b[39m_forward_pre_hooks\n\u001b[0;32m   1499\u001b[0m         \u001b[39mor\u001b[39;00m _global_backward_pre_hooks \u001b[39mor\u001b[39;00m _global_backward_hooks\n\u001b[0;32m   1500\u001b[0m         \u001b[39mor\u001b[39;00m _global_forward_hooks \u001b[39mor\u001b[39;00m _global_forward_pre_hooks):\n\u001b[1;32m-> 1501\u001b[0m     \u001b[39mreturn\u001b[39;00m forward_call(\u001b[39m*\u001b[39margs, \u001b[39m*\u001b[39m\u001b[39m*\u001b[39mkwargs)\n\u001b[0;32m   1502\u001b[0m \u001b[39m# Do not call functions when jit is used\u001b[39;00m\n\u001b[0;32m   1503\u001b[0m full_backward_hooks, non_full_backward_hooks \u001b[39m=\u001b[39m [], []\n",
      "File \u001b[1;32mc:\\Users\\antoi\\ai-imbsl\\.venv\\lib\\site-packages\\torch\\nn\\modules\\linear.py:114\u001b[0m, in \u001b[0;36mLinear.forward\u001b[1;34m(self, input)\u001b[0m\n\u001b[0;32m    113\u001b[0m \u001b[39mdef\u001b[39;00m \u001b[39mforward\u001b[39m(\u001b[39mself\u001b[39m, \u001b[39minput\u001b[39m: Tensor) \u001b[39m-\u001b[39m\u001b[39m>\u001b[39m Tensor:\n\u001b[1;32m--> 114\u001b[0m     \u001b[39mreturn\u001b[39;00m F\u001b[39m.\u001b[39;49mlinear(\u001b[39minput\u001b[39;49m, \u001b[39mself\u001b[39;49m\u001b[39m.\u001b[39;49mweight, \u001b[39mself\u001b[39;49m\u001b[39m.\u001b[39;49mbias)\n",
      "\u001b[1;31mKeyboardInterrupt\u001b[0m: "
     ]
    }
   ],
   "source": [
    "import optuna\n",
    "batch_size=256\n",
    "train_set_drug  = dataset(X_train_drug, y_train_drug)\n",
    "val_set_drug  = dataset(X_val_drug, y_val_drug)\n",
    "train_dl_drug = DataLoader(train_set_drug, batch_size=batch_size, shuffle=True)\n",
    "val_dl_drug = DataLoader(val_set_drug, batch_size=1, shuffle=True)\n",
    "xi, yi = next(iter(train_dl_drug))\n",
    "\n",
    "def objective(trial=None):\n",
    "    if trial is None:\n",
    "        lr = 1e-3\n",
    "        dropout=0.2\n",
    "        weight_decay=1e-4\n",
    "    else:\n",
    "        weight_decay = trial.suggest_float(\"weight_decay\", 1e-8, 1e-2, log=True)\n",
    "        lr = trial.suggest_float(\"learning_rate\", 1e-5, 1e-3, log=True)\n",
    "        dropout = trial.suggest_float(\"dropout\", 0.0, 0.3) \n",
    "    ae = AE([xi.shape[1],1024,512,256,512,1024], dropout=dropout)\n",
    "    # print(summary(ae.to(\"cuda\"), xi.shape))\n",
    "    early_stopper = EarlyStopper(patience=30)\n",
    "    optimizer = torch.optim.Adam(ae.parameters(), lr=lr, weight_decay=weight_decay)\n",
    "    scheduler = torch.optim.lr_scheduler.ReduceLROnPlateau(optimizer=optimizer, factor=0.5, verbose=True, patience=20, min_lr=1e-7)\n",
    "    loss_fn = torch.nn.MSELoss()\n",
    "    # Initializing in a separate cell so we can easily add more epochs to the same run\n",
    "    # timestamp = datetime.now().strftime('%Y%m%d_%H%M%S')\n",
    "    # writer = SummaryWriter('runs/fashion_trainer_{}'.format(timestamp))\n",
    "    epoch_number = 0\n",
    "\n",
    "    EPOCHS = 500\n",
    "\n",
    "    for epoch in range(EPOCHS):\n",
    "        # Make sure gradient tracking is on, and do a pass over the data\n",
    "        ae.train(True)\n",
    "        ae = ae.to(device=device)\n",
    "\n",
    "        avg_loss = train_one_epoch(ae, epoch_number, \"writer\", train_dl_drug, optimizer, loss_fn, device=device)\n",
    "\n",
    "        running_vloss = 0.0\n",
    "        # Set the ae to evaluation mode, disabling dropout and using population\n",
    "        # statistics for batch normalization.\n",
    "        ae.eval()\n",
    "\n",
    "        # Disable gradient computation and reduce memory consumption.\n",
    "        with torch.no_grad():\n",
    "            for i, vdata in enumerate(val_dl_drug):\n",
    "                vinputs, vlabels = vdata\n",
    "                vinputs = vinputs.to(device)\n",
    "                vlabels = vlabels.to(device)\n",
    "                voutputs = ae(vinputs)\n",
    "                vloss = loss_fn(voutputs, vlabels) / vinputs.shape[0]\n",
    "                running_vloss += vloss\n",
    "        avg_vloss = running_vloss / (i + 1) \n",
    "\n",
    "        if epoch_number%10==9:print('EPOCH {}:'.format(epoch_number + 1),'LOSS train {} valid {}'.format(avg_loss, avg_vloss))\n",
    "        scheduler.step(avg_loss)\n",
    "\n",
    "        if early_stopper.early_stop(avg_loss):             \n",
    "            break\n",
    "\n",
    "        if trial is not None:\n",
    "            trial.report(avg_vloss, epoch_number)\n",
    "            if trial.should_prune():\n",
    "                raise optuna.TrialPruned()\n",
    "        epoch_number += 1\n",
    "\n",
    "    return avg_vloss\n",
    "\n",
    "objective()\n",
    "\n",
    "with torch.no_grad():\n",
    "    for i, data in enumerate(train_dl_drug):\n",
    "        inputs, labels = data\n",
    "        inputs = inputs.to(device=device)\n",
    "        labels = labels.to(device=device)\n",
    "        outputs = ae(inputs)\n",
    "with open(\"output.txt\", mode=\"w\") as f: \n",
    "    [f.write(\n",
    "        str(outputs[0][i].to(\"cpu\").numpy().round(3))+\"   \"+\n",
    "        str(inputs[0][i].to(\"cpu\").numpy().round(3))+\"\\n\") for i in range(len(outputs[0]))]"
   ]
  },
  {
   "cell_type": "code",
   "execution_count": 123,
   "metadata": {},
   "outputs": [
    {
     "data": {
      "text/plain": [
       "<matplotlib.collections.PathCollection at 0x1af5fcf1970>"
      ]
     },
     "execution_count": 123,
     "metadata": {},
     "output_type": "execute_result"
    },
    {
     "data": {
      "image/png": "[encoded data removed]",
      "text/plain": [
       "<Figure size 640x480 with 1 Axes>"
      ]
     },
     "metadata": {},
     "output_type": "display_data"
    }
   ],
   "source": [
    "import matplotlib.pyplot as plt\n",
    "inputs_np = inputs.to(\"cpu\").numpy().round(3)\n",
    "outputs_np = outputs.to(\"cpu\").numpy().round(3)\n",
    "mask = inputs_np<0.5\n",
    "\n",
    "plt.xlim(-0.5, 0.5)\n",
    "plt.ylim(-0.5, 0.5)\n",
    "plt.scatter(inputs_np[mask][:100], outputs_np[mask][:100])"
   ]
  },
  {
   "cell_type": "code",
   "execution_count": 127,
   "metadata": {},
   "outputs": [
    {
     "name": "stderr",
     "output_type": "stream",
     "text": [
      "[I 2023-08-24 15:59:01,277] A new study created in memory with name: no-name-7928a3f7-6d42-486d-9ef1-79f5cbcbc7bc\n"
     ]
    },
    {
     "name": "stdout",
     "output_type": "stream",
     "text": [
      "EPOCH 10: LOSS train 0.8964327971140543 valid 0.9187698364257812\n",
      "EPOCH 20: LOSS train 0.735660175482432 valid 0.8696612119674683\n",
      "EPOCH 30: LOSS train 0.6578816970189413 valid 0.841172456741333\n",
      "EPOCH 40: LOSS train 0.5808011690775553 valid 0.820204496383667\n",
      "EPOCH 50: LOSS train 0.5016927619775137 valid 0.8065064549446106\n",
      "EPOCH 60: LOSS train 0.4470178186893463 valid 0.792937695980072\n",
      "EPOCH 70: LOSS train 0.40131019552548725 valid 0.7838071584701538\n",
      "EPOCH 80: LOSS train 0.33746330936749774 valid 0.7746938467025757\n",
      "EPOCH 90: LOSS train 0.2870992024739583 valid 0.7652873992919922\n",
      "EPOCH 100: LOSS train 0.2520986000696818 valid 0.7589479684829712\n",
      "EPOCH 110: LOSS train 0.21655350923538208 valid 0.7564115524291992\n",
      "EPOCH 120: LOSS train 0.1925071726242701 valid 0.7516952157020569\n",
      "EPOCH 130: LOSS train 0.16322414577007294 valid 0.7490956783294678\n",
      "EPOCH 140: LOSS train 0.15513590474923453 valid 0.7476940155029297\n",
      "EPOCH 150: LOSS train 0.13686367372671762 valid 0.7477654218673706\n",
      "EPOCH 160: LOSS train 0.12129672120014827 valid 0.7454369068145752\n",
      "EPOCH 170: LOSS train 0.10734537492195766 valid 0.7446942925453186\n",
      "EPOCH 180: LOSS train 0.10167135546604793 valid 0.7438770532608032\n",
      "EPOCH 190: LOSS train 0.10192689796288808 valid 0.7446224689483643\n",
      "EPOCH 200: LOSS train 0.08543896426757176 valid 0.7416666746139526\n",
      "EPOCH 210: LOSS train 0.07875833412011464 valid 0.7413647174835205\n",
      "EPOCH 220: LOSS train 0.07314243912696838 valid 0.7403231263160706\n",
      "EPOCH 230: LOSS train 0.07135440409183502 valid 0.7394425868988037\n",
      "EPOCH 240: LOSS train 0.06494936098655064 valid 0.7378414869308472\n",
      "EPOCH 250: LOSS train 0.06255896637837093 valid 0.7389729022979736\n",
      "EPOCH 260: LOSS train 0.05897484595576922 valid 0.7375266551971436\n",
      "EPOCH 270: LOSS train 0.05670225992798805 valid 0.7380004525184631\n",
      "EPOCH 280: LOSS train 0.05100616067647934 valid 0.7365856170654297\n",
      "EPOCH 290: LOSS train 0.05102398246526718 valid 0.7358337640762329\n",
      "EPOCH 300: LOSS train 0.04808092614014944 valid 0.7344580888748169\n",
      "EPOCH 310: LOSS train 0.04456238572796186 valid 0.7348489761352539\n",
      "EPOCH 320: LOSS train 0.04453641548752785 valid 0.7345283627510071\n",
      "EPOCH 330: LOSS train 0.03864537055293719 valid 0.7350440621376038\n",
      "EPOCH 340: LOSS train 0.04187974209586779 valid 0.733487606048584\n",
      "EPOCH 350: LOSS train 0.03828267504771551 valid 0.7332189679145813\n",
      "EPOCH 360: LOSS train 0.03748240942756335 valid 0.7333937883377075\n",
      "EPOCH 370: LOSS train 0.03635464360316595 valid 0.732234537601471\n",
      "EPOCH 380: LOSS train 0.036361670742432274 valid 0.7323731780052185\n",
      "EPOCH 390: LOSS train 0.035253641506036125 valid 0.7325578927993774\n",
      "EPOCH 400: LOSS train 0.03422976595660051 valid 0.7317403554916382\n",
      "EPOCH 410: LOSS train 0.032615957160790764 valid 0.7309823632240295\n",
      "EPOCH 420: LOSS train 0.03614353636900584 valid 0.7302196621894836\n",
      "EPOCH 430: LOSS train 0.03245235234498978 valid 0.7297706007957458\n",
      "EPOCH 440: LOSS train 0.03251208861668905 valid 0.7300291657447815\n",
      "EPOCH 450: LOSS train 0.030467564240098 valid 0.72901451587677\n",
      "EPOCH 460: LOSS train 0.02866931880513827 valid 0.7283378839492798\n",
      "EPOCH 470: LOSS train 0.0357675701379776 valid 0.7295905947685242\n",
      "EPOCH 480: LOSS train 0.030265297119816143 valid 0.7280257344245911\n",
      "Epoch 00482: reducing learning rate of group 0 to 2.0271e-04.\n",
      "EPOCH 490: LOSS train 0.02426232894261678 valid 0.7267191410064697\n"
     ]
    },
    {
     "name": "stderr",
     "output_type": "stream",
     "text": [
      "[I 2023-08-24 16:00:58,622] Trial 0 finished with value: 0.7264183163642883 and parameters: {'weight_decay': 2.0742200279799252e-07, 'learning_rate': 0.0004054200648538034, 'dropout': 0.006690157715080158}. Best is trial 0 with value: 0.7264183163642883.\n"
     ]
    },
    {
     "name": "stdout",
     "output_type": "stream",
     "text": [
      "EPOCH 500: LOSS train 0.023595905552307766 valid 0.7264183163642883\n",
      "EPOCH 10: LOSS train 0.951216459274292 valid 0.9843992590904236\n",
      "EPOCH 20: LOSS train 0.9661097923914591 valid 0.9843155145645142\n",
      "EPOCH 30: LOSS train 0.9769763350486755 valid 0.9841616153717041\n",
      "Epoch 00031: reducing learning rate of group 0 to 5.5889e-06.\n"
     ]
    },
    {
     "name": "stderr",
     "output_type": "stream",
     "text": [
      "[I 2023-08-24 16:01:08,133] Trial 1 finished with value: 0.9839949607849121 and parameters: {'weight_decay': 4.203455077345441e-08, 'learning_rate': 1.117773330334623e-05, 'dropout': 0.0952681856404866}. Best is trial 0 with value: 0.7264183163642883.\n"
     ]
    },
    {
     "name": "stdout",
     "output_type": "stream",
     "text": [
      "EPOCH 40: LOSS train 0.992885410785675 valid 0.9839949607849121\n",
      "EPOCH 10: LOSS train 0.9817602038383484 valid 0.9846104383468628\n",
      "EPOCH 20: LOSS train 1.0348960955937703 valid 0.9844990968704224\n",
      "EPOCH 30: LOSS train 0.979311486085256 valid 0.9841519594192505\n",
      "EPOCH 40: LOSS train 0.9859962662061056 valid 0.9827821850776672\n",
      "Epoch 00044: reducing learning rate of group 0 to 1.1116e-05.\n",
      "EPOCH 50: LOSS train 0.9563847581545512 valid 0.9793707728385925\n",
      "EPOCH 60: LOSS train 0.9439239700635275 valid 0.9754704236984253\n",
      "EPOCH 70: LOSS train 0.9693473776181539 valid 0.9726516008377075\n",
      "Epoch 00078: reducing learning rate of group 0 to 5.5580e-06.\n",
      "EPOCH 80: LOSS train 0.9469285011291504 valid 0.9708676934242249\n"
     ]
    },
    {
     "name": "stderr",
     "output_type": "stream",
     "text": [
      "[I 2023-08-24 16:01:28,502] Trial 2 finished with value: 0.9703244566917419 and parameters: {'weight_decay': 4.15138552676534e-05, 'learning_rate': 2.223214019936377e-05, 'dropout': 0.2413583926687849}. Best is trial 0 with value: 0.7264183163642883.\n"
     ]
    },
    {
     "name": "stdout",
     "output_type": "stream",
     "text": [
      "EPOCH 10: LOSS train 0.8919724424680074 valid 0.9378631711006165\n",
      "EPOCH 20: LOSS train 0.7777864138285319 valid 0.8827853202819824\n",
      "EPOCH 30: LOSS train 0.7335690855979919 valid 0.8555580973625183\n",
      "EPOCH 40: LOSS train 0.6549035310745239 valid 0.8372163772583008\n",
      "EPOCH 50: LOSS train 0.6154762705167135 valid 0.8238299489021301\n",
      "EPOCH 60: LOSS train 0.57394939661026 valid 0.8137056827545166\n",
      "EPOCH 70: LOSS train 0.5238625804583231 valid 0.8031138181686401\n",
      "EPOCH 80: LOSS train 0.4946559965610504 valid 0.793481171131134\n",
      "EPOCH 90: LOSS train 0.4698922435442607 valid 0.7873779535293579\n",
      "EPOCH 100: LOSS train 0.4195818801720937 valid 0.7816359400749207\n",
      "EPOCH 110: LOSS train 0.3874383866786957 valid 0.775000274181366\n",
      "EPOCH 120: LOSS train 0.35152796904246014 valid 0.7669376134872437\n",
      "EPOCH 130: LOSS train 0.326005220413208 valid 0.7634682059288025\n",
      "EPOCH 140: LOSS train 0.3027735749880473 valid 0.7595819234848022\n",
      "EPOCH 150: LOSS train 0.2903686265150706 valid 0.7560952305793762\n",
      "EPOCH 160: LOSS train 0.26672661304473877 valid 0.7526129484176636\n",
      "EPOCH 170: LOSS train 0.24182156225045523 valid 0.7502630949020386\n",
      "EPOCH 180: LOSS train 0.2283750126759211 valid 0.7489017248153687\n",
      "EPOCH 190: LOSS train 0.21366961797078451 valid 0.7470662593841553\n",
      "EPOCH 200: LOSS train 0.204206849137942 valid 0.745410680770874\n",
      "EPOCH 210: LOSS train 0.1932932734489441 valid 0.745098888874054\n",
      "EPOCH 220: LOSS train 0.18241887787977853 valid 0.7428849339485168\n",
      "EPOCH 230: LOSS train 0.16514284908771515 valid 0.7404677867889404\n",
      "EPOCH 240: LOSS train 0.1620408147573471 valid 0.739734411239624\n",
      "EPOCH 250: LOSS train 0.15635974208513895 valid 0.7389975786209106\n",
      "EPOCH 260: LOSS train 0.15052869419256845 valid 0.7372521758079529\n",
      "EPOCH 270: LOSS train 0.14050684372584024 valid 0.7370405793190002\n",
      "EPOCH 280: LOSS train 0.13471698264280954 valid 0.7360329031944275\n",
      "EPOCH 290: LOSS train 0.12037451316912968 valid 0.7346099615097046\n",
      "EPOCH 300: LOSS train 0.12812136113643646 valid 0.7345526218414307\n",
      "EPOCH 310: LOSS train 0.12274571508169174 valid 0.7331241965293884\n",
      "EPOCH 320: LOSS train 0.1143628532687823 valid 0.7325507998466492\n",
      "EPOCH 330: LOSS train 0.11030027270317078 valid 0.73206627368927\n",
      "EPOCH 340: LOSS train 0.11364121486743291 valid 0.7317461371421814\n",
      "EPOCH 350: LOSS train 0.10142390429973602 valid 0.7319912910461426\n",
      "EPOCH 360: LOSS train 0.09780903408924739 valid 0.7309766411781311\n",
      "EPOCH 370: LOSS train 0.09461903820435207 valid 0.7309693098068237\n",
      "EPOCH 380: LOSS train 0.09572915732860565 valid 0.7302047610282898\n",
      "EPOCH 390: LOSS train 0.0948386862874031 valid 0.7293186783790588\n",
      "EPOCH 400: LOSS train 0.0882595752676328 valid 0.728451669216156\n",
      "EPOCH 410: LOSS train 0.09092836827039719 valid 0.7278311848640442\n",
      "EPOCH 420: LOSS train 0.08352906008561452 valid 0.7277846932411194\n",
      "Epoch 00429: reducing learning rate of group 0 to 1.3139e-04.\n",
      "EPOCH 430: LOSS train 0.0829838290810585 valid 0.7267609238624573\n",
      "EPOCH 440: LOSS train 0.07637704163789749 valid 0.7258407473564148\n",
      "EPOCH 450: LOSS train 0.07316878934701283 valid 0.7254552841186523\n",
      "EPOCH 460: LOSS train 0.07381473481655121 valid 0.7256873846054077\n",
      "Epoch 00463: reducing learning rate of group 0 to 6.5695e-05.\n",
      "EPOCH 470: LOSS train 0.07368133962154388 valid 0.7248638272285461\n",
      "EPOCH 480: LOSS train 0.07277396569649379 valid 0.7246636152267456\n",
      "EPOCH 490: LOSS train 0.06934069097042084 valid 0.7245638370513916\n"
     ]
    },
    {
     "name": "stderr",
     "output_type": "stream",
     "text": [
      "[I 2023-08-24 16:03:33,424] Trial 3 finished with value: 0.7246367931365967 and parameters: {'weight_decay': 5.898295395253151e-06, 'learning_rate': 0.0002627818048917611, 'dropout': 0.025916582435828884}. Best is trial 3 with value: 0.7246367931365967.\n"
     ]
    },
    {
     "name": "stdout",
     "output_type": "stream",
     "text": [
      "EPOCH 500: LOSS train 0.06845741967360179 valid 0.7246367931365967\n",
      "EPOCH 10: LOSS train 0.9985620776812235 valid 0.9844756722450256\n",
      "EPOCH 20: LOSS train 1.016975224018097 valid 0.9842193722724915\n",
      "EPOCH 30: LOSS train 0.961137056350708 valid 0.9833748936653137\n",
      "Epoch 00036: reducing learning rate of group 0 to 7.3645e-06.\n",
      "EPOCH 40: LOSS train 0.9730969866116842 valid 0.98159259557724\n"
     ]
    },
    {
     "name": "stderr",
     "output_type": "stream",
     "text": [
      "[I 2023-08-24 16:03:43,668] Trial 4 finished with value: 0.9805439114570618 and parameters: {'weight_decay': 3.7266483575972175e-06, 'learning_rate': 1.4729021005959363e-05, 'dropout': 0.008743042594170646}. Best is trial 3 with value: 0.7246367931365967.\n",
      "[I 2023-08-24 16:03:43,919] Trial 5 pruned. \n",
      "[I 2023-08-24 16:03:44,200] Trial 6 pruned. \n",
      "[I 2023-08-24 16:03:44,557] Trial 7 pruned. \n",
      "[I 2023-08-24 16:03:44,844] Trial 8 pruned. \n",
      "[I 2023-08-24 16:03:45,126] Trial 9 pruned. \n"
     ]
    },
    {
     "name": "stdout",
     "output_type": "stream",
     "text": [
      "EPOCH 10: LOSS train 0.9588246941566467 valid 0.9845335483551025\n"
     ]
    },
    {
     "name": "stderr",
     "output_type": "stream",
     "text": [
      "[I 2023-08-24 16:03:47,843] Trial 10 pruned. \n"
     ]
    },
    {
     "name": "stdout",
     "output_type": "stream",
     "text": [
      "EPOCH 10: LOSS train 0.8747256000836691 valid 0.9270272254943848\n",
      "EPOCH 20: LOSS train 0.7646091977755228 valid 0.8801366686820984\n",
      "EPOCH 30: LOSS train 0.7038793365160624 valid 0.8500660061836243\n",
      "EPOCH 40: LOSS train 0.6081476012865702 valid 0.8313676714897156\n",
      "EPOCH 50: LOSS train 0.5615212321281433 valid 0.8169065117835999\n",
      "EPOCH 60: LOSS train 0.46607200304667157 valid 0.8064845204353333\n",
      "EPOCH 70: LOSS train 0.43679653604825336 valid 0.7933388948440552\n",
      "EPOCH 80: LOSS train 0.38767583171526593 valid 0.7843006253242493\n",
      "EPOCH 90: LOSS train 0.33839816848436993 valid 0.7754285335540771\n",
      "EPOCH 100: LOSS train 0.3081312378247579 valid 0.7693676352500916\n",
      "EPOCH 110: LOSS train 0.28139880299568176 valid 0.7649153470993042\n"
     ]
    },
    {
     "name": "stderr",
     "output_type": "stream",
     "text": [
      "[I 2023-08-24 16:04:14,112] Trial 11 pruned. \n"
     ]
    },
    {
     "name": "stdout",
     "output_type": "stream",
     "text": [
      "EPOCH 10: LOSS train 0.9078738490740458 valid 0.9338170289993286\n",
      "EPOCH 20: LOSS train 0.8005250891049703 valid 0.8890096545219421\n",
      "EPOCH 30: LOSS train 0.7068562110265096 valid 0.8619912266731262\n",
      "EPOCH 40: LOSS train 0.6463988224665324 valid 0.8406268954277039\n"
     ]
    },
    {
     "name": "stderr",
     "output_type": "stream",
     "text": [
      "[I 2023-08-24 16:04:24,466] Trial 12 pruned. \n"
     ]
    },
    {
     "name": "stdout",
     "output_type": "stream",
     "text": [
      "EPOCH 10: LOSS train 0.9222878217697144 valid 0.9636880159378052\n",
      "EPOCH 20: LOSS train 0.8707720637321472 valid 0.9342678785324097\n",
      "EPOCH 30: LOSS train 0.8585448265075684 valid 0.9104251265525818\n",
      "EPOCH 40: LOSS train 0.8641272187232971 valid 0.8953218460083008\n"
     ]
    },
    {
     "name": "stderr",
     "output_type": "stream",
     "text": [
      "[I 2023-08-24 16:04:35,031] Trial 13 pruned. \n"
     ]
    },
    {
     "name": "stdout",
     "output_type": "stream",
     "text": [
      "EPOCH 10: LOSS train 0.8664694825808207 valid 0.9002593755722046\n",
      "EPOCH 20: LOSS train 0.719032883644104 valid 0.860633134841919\n",
      "EPOCH 30: LOSS train 0.6373923420906067 valid 0.8339985609054565\n",
      "EPOCH 40: LOSS train 0.5355844000975291 valid 0.8143650889396667\n",
      "EPOCH 50: LOSS train 0.4605963130791982 valid 0.8016321659088135\n",
      "EPOCH 60: LOSS train 0.4268210728963216 valid 0.7890103459358215\n",
      "EPOCH 70: LOSS train 0.4153373638788859 valid 0.7804701328277588\n",
      "EPOCH 80: LOSS train 0.34659204880396527 valid 0.7723497152328491\n",
      "EPOCH 90: LOSS train 0.31361572941144306 valid 0.7708794474601746\n",
      "EPOCH 100: LOSS train 0.28423810998598736 valid 0.7650997042655945\n",
      "EPOCH 110: LOSS train 0.26771198709805805 valid 0.7583284378051758\n",
      "EPOCH 120: LOSS train 0.24648148814837137 valid 0.7678614258766174\n"
     ]
    },
    {
     "name": "stderr",
     "output_type": "stream",
     "text": [
      "[I 2023-08-24 16:05:04,217] Trial 14 pruned. \n",
      "[I 2023-08-24 16:05:04,507] Trial 15 pruned. \n"
     ]
    },
    {
     "name": "stdout",
     "output_type": "stream",
     "text": [
      "EPOCH 10: LOSS train 0.9149225950241089 valid 0.9238418936729431\n",
      "EPOCH 20: LOSS train 0.8410022258758545 valid 0.8766993880271912\n",
      "EPOCH 30: LOSS train 0.7531596223513285 valid 0.854283332824707\n",
      "EPOCH 40: LOSS train 0.6693061987559 valid 0.8387368321418762\n"
     ]
    },
    {
     "name": "stderr",
     "output_type": "stream",
     "text": [
      "[I 2023-08-24 16:05:15,444] Trial 16 pruned. \n"
     ]
    },
    {
     "name": "stdout",
     "output_type": "stream",
     "text": [
      "EPOCH 10: LOSS train 0.9518271287282308 valid 0.9570673108100891\n",
      "EPOCH 20: LOSS train 0.8650016585985819 valid 0.9091325402259827\n",
      "EPOCH 30: LOSS train 0.7935507297515869 valid 0.8853872418403625\n",
      "EPOCH 40: LOSS train 0.7390687465667725 valid 0.8699078559875488\n"
     ]
    },
    {
     "name": "stderr",
     "output_type": "stream",
     "text": [
      "[I 2023-08-24 16:05:27,197] Trial 17 pruned. \n"
     ]
    },
    {
     "name": "stdout",
     "output_type": "stream",
     "text": [
      "EPOCH 10: LOSS train 0.8319852550824484 valid 0.916589617729187\n",
      "EPOCH 20: LOSS train 0.7619730830192566 valid 0.8727059960365295\n",
      "EPOCH 30: LOSS train 0.6676624814669291 valid 0.8481240272521973\n",
      "EPOCH 40: LOSS train 0.6438319484392802 valid 0.8292450308799744\n",
      "EPOCH 50: LOSS train 0.5345362226168314 valid 0.8135040998458862\n",
      "EPOCH 60: LOSS train 0.4456770320733388 valid 0.8028504848480225\n",
      "EPOCH 70: LOSS train 0.39529483517011005 valid 0.7880486249923706\n",
      "EPOCH 80: LOSS train 0.34574905037879944 valid 0.7800403833389282\n",
      "EPOCH 90: LOSS train 0.3126489718755086 valid 0.7749796509742737\n",
      "EPOCH 100: LOSS train 0.26464299857616425 valid 0.7678115367889404\n",
      "EPOCH 110: LOSS train 0.24597961703936258 valid 0.763232409954071\n"
     ]
    },
    {
     "name": "stderr",
     "output_type": "stream",
     "text": [
      "[I 2023-08-24 16:06:01,163] Trial 18 pruned. \n",
      "[I 2023-08-24 16:06:01,703] Trial 19 pruned. \n"
     ]
    },
    {
     "name": "stdout",
     "output_type": "stream",
     "text": [
      "EPOCH 10: LOSS train 0.8898886640866598 valid 0.9434162378311157\n",
      "EPOCH 20: LOSS train 0.8169260223706564 valid 0.8894577026367188\n",
      "EPOCH 30: LOSS train 0.7374055782953898 valid 0.8653506636619568\n",
      "EPOCH 40: LOSS train 0.6889314850171407 valid 0.8487825393676758\n"
     ]
    },
    {
     "name": "stderr",
     "output_type": "stream",
     "text": [
      "[I 2023-08-24 16:06:14,009] Trial 20 pruned. \n"
     ]
    },
    {
     "name": "stdout",
     "output_type": "stream",
     "text": [
      "EPOCH 10: LOSS train 0.9994248946507772 valid 0.9840867519378662\n",
      "EPOCH 20: LOSS train 0.9728068510691324 valid 0.980194091796875\n",
      "EPOCH 30: LOSS train 0.9767831166585287 valid 0.9664987921714783\n"
     ]
    }
   ],
   "source": [
    "batch_size=256\n",
    "train_set_drug  = dataset(X_train_drug, y_train_drug)\n",
    "val_set_drug  = dataset(X_val_drug, y_val_drug)\n",
    "train_dl_drug = DataLoader(train_set_drug, batch_size=batch_size, shuffle=True)\n",
    "val_dl_drug = DataLoader(val_set_drug, batch_size=1, shuffle=True)\n",
    "xi, yi = next(iter(train_dl_drug))\n",
    "\n",
    "study = optuna.create_study(direction='minimize', pruner=optuna.pruners.MedianPruner())\n",
    "study.optimize(objective, n_trials=100)"
   ]
  },
  {
   "cell_type": "markdown",
   "metadata": {},
   "source": [
    "{'weight_decay': 1.4343876100314803e-06, 'learning_rate': 0.00045871647446227656, 'dropout': 0.05777989426470749}"
   ]
  }
 ],
 "metadata": {
  "kernelspec": {
   "display_name": ".venv",
   "language": "python",
   "name": "python3"
  },
  "language_info": {
   "codemirror_mode": {
    "name": "ipython",
    "version": 3
   },
   "file_extension": ".py",
   "mimetype": "text/x-python",
   "name": "python",
   "nbconvert_exporter": "python",
   "pygments_lexer": "ipython3",
   "version": "3.9.9"
  },
  "orig_nbformat": 4
 },
 "nbformat": 4,
 "nbformat_minor": 2
}
